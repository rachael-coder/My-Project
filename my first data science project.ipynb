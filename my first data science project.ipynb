{
 "cells": [
  {
   "cell_type": "markdown",
   "metadata": {},
   "source": [
    "NAME: RACHAEL NYAWIRA \n",
    "\n",
    "\n",
    "CLASS: PART-TIME"
   ]
  },
  {
   "cell_type": "markdown",
   "metadata": {},
   "source": [
    "#### BUSINESS UNDERSTANDING\n"
   ]
  },
  {
   "cell_type": "markdown",
   "metadata": {},
   "source": [
    "In a world that is quickly evolving towards adapting the use of technology, businesses have followed suit in bringing their stores and marketing on the internet.\n",
    "\n",
    "\n",
    "In this project I look at sales of various products in different regions.\n",
    "\n",
    "\n",
    "Questions that involve the Online Sales\n",
    "\n",
    "\n",
    "1. What are the peak sales periods?\n",
    "\n",
    "2. What marketing strategies can be used based on Payment Methods?\n",
    "\n",
    "3. How is the region related to the total revenue?\n"
   ]
  },
  {
   "cell_type": "code",
   "execution_count": 1,
   "metadata": {
    "_cell_guid": "b1076dfc-b9ad-4769-8c92-a6c4dae69d19",
    "_uuid": "8f2839f25d086af736a60e9eeb907d3b93b6e0e5",
    "execution": {
     "iopub.execute_input": "2024-09-05T17:31:50.884932Z",
     "iopub.status.busy": "2024-09-05T17:31:50.884370Z",
     "iopub.status.idle": "2024-09-05T17:31:50.894654Z",
     "shell.execute_reply": "2024-09-05T17:31:50.892684Z",
     "shell.execute_reply.started": "2024-09-05T17:31:50.884851Z"
    }
   },
   "outputs": [],
   "source": [
    "#import relevant libraries\n",
    "import numpy as np \n",
    "import pandas as pd \n",
    "import matplotlib.pyplot as plt \n",
    "import seaborn as sns "
   ]
  },
  {
   "cell_type": "markdown",
   "metadata": {},
   "source": [
    "### Data Understanding"
   ]
  },
  {
   "cell_type": "code",
   "execution_count": 2,
   "metadata": {
    "execution": {
     "iopub.execute_input": "2024-09-05T17:31:50.911757Z",
     "iopub.status.busy": "2024-09-05T17:31:50.909769Z",
     "iopub.status.idle": "2024-09-05T17:31:50.935760Z",
     "shell.execute_reply": "2024-09-05T17:31:50.934415Z",
     "shell.execute_reply.started": "2024-09-05T17:31:50.911692Z"
    }
   },
   "outputs": [
    {
     "data": {
      "text/html": [
       "<div>\n",
       "<style scoped>\n",
       "    .dataframe tbody tr th:only-of-type {\n",
       "        vertical-align: middle;\n",
       "    }\n",
       "\n",
       "    .dataframe tbody tr th {\n",
       "        vertical-align: top;\n",
       "    }\n",
       "\n",
       "    .dataframe thead th {\n",
       "        text-align: right;\n",
       "    }\n",
       "</style>\n",
       "<table border=\"1\" class=\"dataframe\">\n",
       "  <thead>\n",
       "    <tr style=\"text-align: right;\">\n",
       "      <th></th>\n",
       "      <th>Transaction ID</th>\n",
       "      <th>Date</th>\n",
       "      <th>Product Category</th>\n",
       "      <th>Product Name</th>\n",
       "      <th>Units Sold</th>\n",
       "      <th>Unit Price</th>\n",
       "      <th>Total Revenue</th>\n",
       "      <th>Region</th>\n",
       "      <th>Payment Method</th>\n",
       "    </tr>\n",
       "  </thead>\n",
       "  <tbody>\n",
       "    <tr>\n",
       "      <th>0</th>\n",
       "      <td>10001</td>\n",
       "      <td>2024-01-01</td>\n",
       "      <td>Electronics</td>\n",
       "      <td>iPhone 14 Pro</td>\n",
       "      <td>2</td>\n",
       "      <td>999.99</td>\n",
       "      <td>1999.98</td>\n",
       "      <td>North America</td>\n",
       "      <td>Credit Card</td>\n",
       "    </tr>\n",
       "    <tr>\n",
       "      <th>1</th>\n",
       "      <td>10002</td>\n",
       "      <td>2024-01-02</td>\n",
       "      <td>Home Appliances</td>\n",
       "      <td>Dyson V11 Vacuum</td>\n",
       "      <td>1</td>\n",
       "      <td>499.99</td>\n",
       "      <td>499.99</td>\n",
       "      <td>Europe</td>\n",
       "      <td>PayPal</td>\n",
       "    </tr>\n",
       "    <tr>\n",
       "      <th>2</th>\n",
       "      <td>10003</td>\n",
       "      <td>2024-01-03</td>\n",
       "      <td>Clothing</td>\n",
       "      <td>Levi's 501 Jeans</td>\n",
       "      <td>3</td>\n",
       "      <td>69.99</td>\n",
       "      <td>209.97</td>\n",
       "      <td>Asia</td>\n",
       "      <td>Debit Card</td>\n",
       "    </tr>\n",
       "    <tr>\n",
       "      <th>3</th>\n",
       "      <td>10004</td>\n",
       "      <td>2024-01-04</td>\n",
       "      <td>Books</td>\n",
       "      <td>The Da Vinci Code</td>\n",
       "      <td>4</td>\n",
       "      <td>15.99</td>\n",
       "      <td>63.96</td>\n",
       "      <td>North America</td>\n",
       "      <td>Credit Card</td>\n",
       "    </tr>\n",
       "    <tr>\n",
       "      <th>4</th>\n",
       "      <td>10005</td>\n",
       "      <td>2024-01-05</td>\n",
       "      <td>Beauty Products</td>\n",
       "      <td>Neutrogena Skincare Set</td>\n",
       "      <td>1</td>\n",
       "      <td>89.99</td>\n",
       "      <td>89.99</td>\n",
       "      <td>Europe</td>\n",
       "      <td>PayPal</td>\n",
       "    </tr>\n",
       "  </tbody>\n",
       "</table>\n",
       "</div>"
      ],
      "text/plain": [
       "   Transaction ID        Date Product Category             Product Name  \\\n",
       "0           10001  2024-01-01      Electronics            iPhone 14 Pro   \n",
       "1           10002  2024-01-02  Home Appliances         Dyson V11 Vacuum   \n",
       "2           10003  2024-01-03         Clothing         Levi's 501 Jeans   \n",
       "3           10004  2024-01-04            Books        The Da Vinci Code   \n",
       "4           10005  2024-01-05  Beauty Products  Neutrogena Skincare Set   \n",
       "\n",
       "   Units Sold  Unit Price  Total Revenue         Region Payment Method  \n",
       "0           2      999.99        1999.98  North America    Credit Card  \n",
       "1           1      499.99         499.99         Europe         PayPal  \n",
       "2           3       69.99         209.97           Asia     Debit Card  \n",
       "3           4       15.99          63.96  North America    Credit Card  \n",
       "4           1       89.99          89.99         Europe         PayPal  "
      ]
     },
     "execution_count": 2,
     "metadata": {},
     "output_type": "execute_result"
    }
   ],
   "source": [
    "data= pd.read_csv(\"Online Sales Data.csv\")\n",
    "data.head()"
   ]
  },
  {
   "cell_type": "code",
   "execution_count": 3,
   "metadata": {
    "execution": {
     "iopub.execute_input": "2024-09-05T17:31:50.938405Z",
     "iopub.status.busy": "2024-09-05T17:31:50.937959Z",
     "iopub.status.idle": "2024-09-05T17:31:50.948972Z",
     "shell.execute_reply": "2024-09-05T17:31:50.947413Z",
     "shell.execute_reply.started": "2024-09-05T17:31:50.938359Z"
    }
   },
   "outputs": [
    {
     "data": {
      "text/plain": [
       "(240, 9)"
      ]
     },
     "execution_count": 3,
     "metadata": {},
     "output_type": "execute_result"
    }
   ],
   "source": [
    "data.shape"
   ]
  },
  {
   "cell_type": "code",
   "execution_count": 4,
   "metadata": {
    "execution": {
     "iopub.execute_input": "2024-09-05T17:31:50.978113Z",
     "iopub.status.busy": "2024-09-05T17:31:50.977612Z",
     "iopub.status.idle": "2024-09-05T17:31:50.996898Z",
     "shell.execute_reply": "2024-09-05T17:31:50.995119Z",
     "shell.execute_reply.started": "2024-09-05T17:31:50.978040Z"
    }
   },
   "outputs": [
    {
     "name": "stdout",
     "output_type": "stream",
     "text": [
      "<class 'pandas.core.frame.DataFrame'>\n",
      "RangeIndex: 240 entries, 0 to 239\n",
      "Data columns (total 9 columns):\n",
      " #   Column            Non-Null Count  Dtype  \n",
      "---  ------            --------------  -----  \n",
      " 0   Transaction ID    240 non-null    int64  \n",
      " 1   Date              240 non-null    object \n",
      " 2   Product Category  240 non-null    object \n",
      " 3   Product Name      240 non-null    object \n",
      " 4   Units Sold        240 non-null    int64  \n",
      " 5   Unit Price        240 non-null    float64\n",
      " 6   Total Revenue     240 non-null    float64\n",
      " 7   Region            240 non-null    object \n",
      " 8   Payment Method    240 non-null    object \n",
      "dtypes: float64(2), int64(2), object(5)\n",
      "memory usage: 17.0+ KB\n"
     ]
    }
   ],
   "source": [
    "data.info()"
   ]
  },
  {
   "cell_type": "code",
   "execution_count": 5,
   "metadata": {},
   "outputs": [
    {
     "data": {
      "text/plain": [
       "dtype('<M8[ns]')"
      ]
     },
     "execution_count": 5,
     "metadata": {},
     "output_type": "execute_result"
    }
   ],
   "source": [
    "data['Date'] = pd.to_datetime(data['Date'], errors = 'coerce')\n",
    "data['Date'].dtype"
   ]
  },
  {
   "cell_type": "code",
   "execution_count": 6,
   "metadata": {},
   "outputs": [],
   "source": [
    "data['Unit Price'] = data['Unit Price'].apply(lambda x: int(x))\n",
    "data['Total Revenue'] = data['Total Revenue'].apply(lambda x: int(x))"
   ]
  },
  {
   "cell_type": "code",
   "execution_count": 7,
   "metadata": {},
   "outputs": [
    {
     "data": {
      "text/plain": [
       "Transaction ID               int64\n",
       "Date                datetime64[ns]\n",
       "Product Category            object\n",
       "Product Name                object\n",
       "Units Sold                   int64\n",
       "Unit Price                   int64\n",
       "Total Revenue                int64\n",
       "Region                      object\n",
       "Payment Method              object\n",
       "dtype: object"
      ]
     },
     "execution_count": 7,
     "metadata": {},
     "output_type": "execute_result"
    }
   ],
   "source": [
    "data.dtypes"
   ]
  },
  {
   "cell_type": "markdown",
   "metadata": {},
   "source": [
    "### Data Cleaning"
   ]
  },
  {
   "cell_type": "code",
   "execution_count": 8,
   "metadata": {},
   "outputs": [
    {
     "data": {
      "text/html": [
       "<div>\n",
       "<style scoped>\n",
       "    .dataframe tbody tr th:only-of-type {\n",
       "        vertical-align: middle;\n",
       "    }\n",
       "\n",
       "    .dataframe tbody tr th {\n",
       "        vertical-align: top;\n",
       "    }\n",
       "\n",
       "    .dataframe thead th {\n",
       "        text-align: right;\n",
       "    }\n",
       "</style>\n",
       "<table border=\"1\" class=\"dataframe\">\n",
       "  <thead>\n",
       "    <tr style=\"text-align: right;\">\n",
       "      <th></th>\n",
       "      <th>Transaction ID</th>\n",
       "      <th>Date</th>\n",
       "      <th>Product Category</th>\n",
       "      <th>Product Name</th>\n",
       "      <th>Units Sold</th>\n",
       "      <th>Unit Price</th>\n",
       "      <th>Total Revenue</th>\n",
       "      <th>Region</th>\n",
       "      <th>Payment Method</th>\n",
       "    </tr>\n",
       "  </thead>\n",
       "  <tbody>\n",
       "    <tr>\n",
       "      <th>0</th>\n",
       "      <td>10001</td>\n",
       "      <td>2024-01-01</td>\n",
       "      <td>Electronics</td>\n",
       "      <td>iPhone 14 Pro</td>\n",
       "      <td>2</td>\n",
       "      <td>999</td>\n",
       "      <td>1999</td>\n",
       "      <td>North America</td>\n",
       "      <td>Credit Card</td>\n",
       "    </tr>\n",
       "    <tr>\n",
       "      <th>1</th>\n",
       "      <td>10002</td>\n",
       "      <td>2024-01-02</td>\n",
       "      <td>Home Appliances</td>\n",
       "      <td>Dyson V11 Vacuum</td>\n",
       "      <td>1</td>\n",
       "      <td>499</td>\n",
       "      <td>499</td>\n",
       "      <td>Europe</td>\n",
       "      <td>PayPal</td>\n",
       "    </tr>\n",
       "    <tr>\n",
       "      <th>2</th>\n",
       "      <td>10003</td>\n",
       "      <td>2024-01-03</td>\n",
       "      <td>Clothing</td>\n",
       "      <td>Levi's 501 Jeans</td>\n",
       "      <td>3</td>\n",
       "      <td>69</td>\n",
       "      <td>209</td>\n",
       "      <td>Asia</td>\n",
       "      <td>Debit Card</td>\n",
       "    </tr>\n",
       "    <tr>\n",
       "      <th>3</th>\n",
       "      <td>10004</td>\n",
       "      <td>2024-01-04</td>\n",
       "      <td>Books</td>\n",
       "      <td>The Da Vinci Code</td>\n",
       "      <td>4</td>\n",
       "      <td>15</td>\n",
       "      <td>63</td>\n",
       "      <td>North America</td>\n",
       "      <td>Credit Card</td>\n",
       "    </tr>\n",
       "    <tr>\n",
       "      <th>4</th>\n",
       "      <td>10005</td>\n",
       "      <td>2024-01-05</td>\n",
       "      <td>Beauty Products</td>\n",
       "      <td>Neutrogena Skincare Set</td>\n",
       "      <td>1</td>\n",
       "      <td>89</td>\n",
       "      <td>89</td>\n",
       "      <td>Europe</td>\n",
       "      <td>PayPal</td>\n",
       "    </tr>\n",
       "  </tbody>\n",
       "</table>\n",
       "</div>"
      ],
      "text/plain": [
       "   Transaction ID       Date Product Category             Product Name  \\\n",
       "0           10001 2024-01-01      Electronics            iPhone 14 Pro   \n",
       "1           10002 2024-01-02  Home Appliances         Dyson V11 Vacuum   \n",
       "2           10003 2024-01-03         Clothing         Levi's 501 Jeans   \n",
       "3           10004 2024-01-04            Books        The Da Vinci Code   \n",
       "4           10005 2024-01-05  Beauty Products  Neutrogena Skincare Set   \n",
       "\n",
       "   Units Sold  Unit Price  Total Revenue         Region Payment Method  \n",
       "0           2         999           1999  North America    Credit Card  \n",
       "1           1         499            499         Europe         PayPal  \n",
       "2           3          69            209           Asia     Debit Card  \n",
       "3           4          15             63  North America    Credit Card  \n",
       "4           1          89             89         Europe         PayPal  "
      ]
     },
     "execution_count": 8,
     "metadata": {},
     "output_type": "execute_result"
    }
   ],
   "source": [
    "data.head()"
   ]
  },
  {
   "cell_type": "code",
   "execution_count": 9,
   "metadata": {
    "execution": {
     "iopub.execute_input": "2024-09-05T17:31:50.998995Z",
     "iopub.status.busy": "2024-09-05T17:31:50.998453Z",
     "iopub.status.idle": "2024-09-05T17:31:51.024012Z",
     "shell.execute_reply": "2024-09-05T17:31:51.022242Z",
     "shell.execute_reply.started": "2024-09-05T17:31:50.998933Z"
    }
   },
   "outputs": [
    {
     "data": {
      "text/plain": [
       "Transaction ID      0\n",
       "Date                0\n",
       "Product Category    0\n",
       "Product Name        0\n",
       "Units Sold          0\n",
       "Unit Price          0\n",
       "Total Revenue       0\n",
       "Region              0\n",
       "Payment Method      0\n",
       "dtype: int64"
      ]
     },
     "execution_count": 9,
     "metadata": {},
     "output_type": "execute_result"
    }
   ],
   "source": [
    "# To get to know where the missing values are\n",
    "data.isnull().sum()"
   ]
  },
  {
   "cell_type": "code",
   "execution_count": 10,
   "metadata": {
    "execution": {
     "iopub.execute_input": "2024-09-05T17:31:51.027818Z",
     "iopub.status.busy": "2024-09-05T17:31:51.027222Z",
     "iopub.status.idle": "2024-09-05T17:31:51.042637Z",
     "shell.execute_reply": "2024-09-05T17:31:51.041220Z",
     "shell.execute_reply.started": "2024-09-05T17:31:51.027746Z"
    }
   },
   "outputs": [
    {
     "data": {
      "text/plain": [
       "0"
      ]
     },
     "execution_count": 10,
     "metadata": {},
     "output_type": "execute_result"
    }
   ],
   "source": [
    "# number of duplicates\n",
    "data.duplicated().sum()"
   ]
  },
  {
   "cell_type": "markdown",
   "metadata": {},
   "source": [
    "Outliers"
   ]
  },
  {
   "cell_type": "code",
   "execution_count": 11,
   "metadata": {},
   "outputs": [
    {
     "data": {
      "text/plain": [
       "<function matplotlib.pyplot.show(close=None, block=None)>"
      ]
     },
     "execution_count": 11,
     "metadata": {},
     "output_type": "execute_result"
    },
    {
     "data": {
      "image/png": "[encoded data removed]",
      "text/plain": [
       "<Figure size 432x288 with 1 Axes>"
      ]
     },
     "metadata": {
      "needs_background": "light"
     },
     "output_type": "display_data"
    }
   ],
   "source": [
    "# checking for outliers\n",
    "plt.boxplot(data['Total Revenue'].dropna())\n",
    "plt.title('Boxplot of Total Revenue')\n",
    "plt.show"
   ]
  },
  {
   "cell_type": "code",
   "execution_count": 12,
   "metadata": {},
   "outputs": [
    {
     "data": {
      "text/plain": [
       "'\"\\nWhat This Boxplot Tells Us\\nThe data has several outliers (the dots above the whiskers).\\nThe distribution is right-skewed, meaning there are a few extreme values pulling the data toward higher numbers.\\nThe majority of values are concentrated within the IQR (inside the box).\\nThere may be a large difference between normal values and outliers, which suggests the need for further investigation\\n'"
      ]
     },
     "execution_count": 12,
     "metadata": {},
     "output_type": "execute_result"
    }
   ],
   "source": [
    "\"\"\"\"\n",
    "What This Boxplot Tells Us\n",
    "The data has several outliers (the dots above the whiskers).\n",
    "The distribution is right-skewed, meaning there are a few extreme values pulling the data toward higher numbers.\n",
    "The majority of values are concentrated within the IQR (inside the box).\n",
    "There may be a large difference between normal values and outliers, which suggests the need for further investigation\n",
    "\"\"\""
   ]
  },
  {
   "cell_type": "code",
   "execution_count": 13,
   "metadata": {},
   "outputs": [],
   "source": [
    "column = 'Total Revenue'\n"
   ]
  },
  {
   "cell_type": "code",
   "execution_count": 14,
   "metadata": {},
   "outputs": [
    {
     "name": "stdout",
     "output_type": "stream",
     "text": [
      "62.0\n",
      "399.0\n"
     ]
    }
   ],
   "source": [
    "#compute the Q1 and Q3\n",
    "Q1 = data[column].quantile(0.25)\n",
    "Q3 = data[column].quantile(0.75)\n",
    "print(Q1)\n",
    "print(Q3)\n",
    "\n"
   ]
  },
  {
   "cell_type": "code",
   "execution_count": 15,
   "metadata": {},
   "outputs": [
    {
     "data": {
      "text/plain": [
       "337.0"
      ]
     },
     "execution_count": 15,
     "metadata": {},
     "output_type": "execute_result"
    }
   ],
   "source": [
    "\n",
    "#compute the interquartile range(IQR)\n",
    "IQR = Q3 - Q1\n",
    "IQR\n",
    "\n"
   ]
  },
  {
   "cell_type": "code",
   "execution_count": 16,
   "metadata": {},
   "outputs": [
    {
     "name": "stdout",
     "output_type": "stream",
     "text": [
      "Lower Bound: -443.5, Upper Bound: 904.5\n"
     ]
    }
   ],
   "source": [
    "#define bounds for the outliers\n",
    "lower_bound = Q1 - 1.5 * IQR\n",
    "upper_bound = Q3 +1.5 * IQR\n",
    "print(f'Lower Bound: {lower_bound}, Upper Bound: {upper_bound}')"
   ]
  },
  {
   "cell_type": "code",
   "execution_count": 17,
   "metadata": {},
   "outputs": [
    {
     "name": "stdout",
     "output_type": "stream",
     "text": [
      "Number of outliers: 19\n"
     ]
    }
   ],
   "source": [
    "\n",
    "# Identify outliers\n",
    "outliers = data[(data[column] < lower_bound) | (data[column] > upper_bound)]\n",
    "print(f\"Number of outliers: {len(outliers)}\")\n"
   ]
  },
  {
   "cell_type": "code",
   "execution_count": 18,
   "metadata": {},
   "outputs": [
    {
     "name": "stdout",
     "output_type": "stream",
     "text": [
      "Original dataset size: 240\n",
      "Cleaned dataset size: 221\n"
     ]
    }
   ],
   "source": [
    "# Remove outliers\n",
    "data_cleaned = data[(data[column] >= lower_bound) & (data[column] <= upper_bound)]\n",
    "# Display the shape before and after removing outliers\n",
    "print(f\"Original dataset size: {data.shape[0]}\")\n",
    "print(f\"Cleaned dataset size: {data_cleaned.shape[0]}\")\n"
   ]
  },
  {
   "cell_type": "code",
   "execution_count": 19,
   "metadata": {},
   "outputs": [],
   "source": [
    "\n",
    "# Save the cleaned dataset\n",
    "data_cleaned.to_csv(\"cleaned_sales_data.csv\", index=False)\n"
   ]
  },
  {
   "cell_type": "code",
   "execution_count": 20,
   "metadata": {},
   "outputs": [
    {
     "data": {
      "text/html": [
       "<div>\n",
       "<style scoped>\n",
       "    .dataframe tbody tr th:only-of-type {\n",
       "        vertical-align: middle;\n",
       "    }\n",
       "\n",
       "    .dataframe tbody tr th {\n",
       "        vertical-align: top;\n",
       "    }\n",
       "\n",
       "    .dataframe thead th {\n",
       "        text-align: right;\n",
       "    }\n",
       "</style>\n",
       "<table border=\"1\" class=\"dataframe\">\n",
       "  <thead>\n",
       "    <tr style=\"text-align: right;\">\n",
       "      <th></th>\n",
       "      <th>Transaction ID</th>\n",
       "      <th>Date</th>\n",
       "      <th>Product Category</th>\n",
       "      <th>Product Name</th>\n",
       "      <th>Units Sold</th>\n",
       "      <th>Unit Price</th>\n",
       "      <th>Total Revenue</th>\n",
       "      <th>Region</th>\n",
       "      <th>Payment Method</th>\n",
       "    </tr>\n",
       "  </thead>\n",
       "  <tbody>\n",
       "    <tr>\n",
       "      <th>0</th>\n",
       "      <td>10001</td>\n",
       "      <td>2024-01-01</td>\n",
       "      <td>Electronics</td>\n",
       "      <td>iPhone 14 Pro</td>\n",
       "      <td>2</td>\n",
       "      <td>999</td>\n",
       "      <td>1999</td>\n",
       "      <td>North America</td>\n",
       "      <td>Credit Card</td>\n",
       "    </tr>\n",
       "    <tr>\n",
       "      <th>1</th>\n",
       "      <td>10002</td>\n",
       "      <td>2024-01-02</td>\n",
       "      <td>Home Appliances</td>\n",
       "      <td>Dyson V11 Vacuum</td>\n",
       "      <td>1</td>\n",
       "      <td>499</td>\n",
       "      <td>499</td>\n",
       "      <td>Europe</td>\n",
       "      <td>PayPal</td>\n",
       "    </tr>\n",
       "    <tr>\n",
       "      <th>2</th>\n",
       "      <td>10003</td>\n",
       "      <td>2024-01-03</td>\n",
       "      <td>Clothing</td>\n",
       "      <td>Levi's 501 Jeans</td>\n",
       "      <td>3</td>\n",
       "      <td>69</td>\n",
       "      <td>209</td>\n",
       "      <td>Asia</td>\n",
       "      <td>Debit Card</td>\n",
       "    </tr>\n",
       "    <tr>\n",
       "      <th>3</th>\n",
       "      <td>10004</td>\n",
       "      <td>2024-01-04</td>\n",
       "      <td>Books</td>\n",
       "      <td>The Da Vinci Code</td>\n",
       "      <td>4</td>\n",
       "      <td>15</td>\n",
       "      <td>63</td>\n",
       "      <td>North America</td>\n",
       "      <td>Credit Card</td>\n",
       "    </tr>\n",
       "    <tr>\n",
       "      <th>4</th>\n",
       "      <td>10005</td>\n",
       "      <td>2024-01-05</td>\n",
       "      <td>Beauty Products</td>\n",
       "      <td>Neutrogena Skincare Set</td>\n",
       "      <td>1</td>\n",
       "      <td>89</td>\n",
       "      <td>89</td>\n",
       "      <td>Europe</td>\n",
       "      <td>PayPal</td>\n",
       "    </tr>\n",
       "  </tbody>\n",
       "</table>\n",
       "</div>"
      ],
      "text/plain": [
       "   Transaction ID       Date Product Category             Product Name  \\\n",
       "0           10001 2024-01-01      Electronics            iPhone 14 Pro   \n",
       "1           10002 2024-01-02  Home Appliances         Dyson V11 Vacuum   \n",
       "2           10003 2024-01-03         Clothing         Levi's 501 Jeans   \n",
       "3           10004 2024-01-04            Books        The Da Vinci Code   \n",
       "4           10005 2024-01-05  Beauty Products  Neutrogena Skincare Set   \n",
       "\n",
       "   Units Sold  Unit Price  Total Revenue         Region Payment Method  \n",
       "0           2         999           1999  North America    Credit Card  \n",
       "1           1         499            499         Europe         PayPal  \n",
       "2           3          69            209           Asia     Debit Card  \n",
       "3           4          15             63  North America    Credit Card  \n",
       "4           1          89             89         Europe         PayPal  "
      ]
     },
     "execution_count": 20,
     "metadata": {},
     "output_type": "execute_result"
    }
   ],
   "source": [
    "data.head()"
   ]
  },
  {
   "cell_type": "code",
   "execution_count": 21,
   "metadata": {},
   "outputs": [
    {
     "name": "stdout",
     "output_type": "stream",
     "text": [
      "<class 'pandas.core.frame.DataFrame'>\n",
      "RangeIndex: 240 entries, 0 to 239\n",
      "Data columns (total 9 columns):\n",
      " #   Column            Non-Null Count  Dtype         \n",
      "---  ------            --------------  -----         \n",
      " 0   Transaction ID    240 non-null    int64         \n",
      " 1   Date              240 non-null    datetime64[ns]\n",
      " 2   Product Category  240 non-null    object        \n",
      " 3   Product Name      240 non-null    object        \n",
      " 4   Units Sold        240 non-null    int64         \n",
      " 5   Unit Price        240 non-null    int64         \n",
      " 6   Total Revenue     240 non-null    int64         \n",
      " 7   Region            240 non-null    object        \n",
      " 8   Payment Method    240 non-null    object        \n",
      "dtypes: datetime64[ns](1), int64(4), object(4)\n",
      "memory usage: 17.0+ KB\n"
     ]
    }
   ],
   "source": [
    "data.info()"
   ]
  },
  {
   "cell_type": "markdown",
   "metadata": {},
   "source": [
    "### Exploratory Data Analysis (EDA)"
   ]
  },
  {
   "cell_type": "code",
   "execution_count": 22,
   "metadata": {
    "execution": {
     "iopub.execute_input": "2024-09-05T17:31:51.132018Z",
     "iopub.status.busy": "2024-09-05T17:31:51.131510Z",
     "iopub.status.idle": "2024-09-05T17:31:51.141155Z",
     "shell.execute_reply": "2024-09-05T17:31:51.139876Z",
     "shell.execute_reply.started": "2024-09-05T17:31:51.131950Z"
    }
   },
   "outputs": [
    {
     "data": {
      "text/plain": [
       "array(['Electronics', 'Home Appliances', 'Clothing', 'Books',\n",
       "       'Beauty Products', 'Sports'], dtype=object)"
      ]
     },
     "execution_count": 22,
     "metadata": {},
     "output_type": "execute_result"
    }
   ],
   "source": [
    "data['Product Category'].unique()"
   ]
  },
  {
   "cell_type": "code",
   "execution_count": 23,
   "metadata": {
    "execution": {
     "iopub.execute_input": "2024-09-05T17:31:51.144152Z",
     "iopub.status.busy": "2024-09-05T17:31:51.143453Z",
     "iopub.status.idle": "2024-09-05T17:31:51.160243Z",
     "shell.execute_reply": "2024-09-05T17:31:51.158755Z",
     "shell.execute_reply.started": "2024-09-05T17:31:51.144084Z"
    }
   },
   "outputs": [
    {
     "data": {
      "text/plain": [
       "232"
      ]
     },
     "execution_count": 23,
     "metadata": {},
     "output_type": "execute_result"
    }
   ],
   "source": [
    "data['Product Name'].nunique()"
   ]
  },
  {
   "cell_type": "code",
   "execution_count": 24,
   "metadata": {
    "execution": {
     "iopub.execute_input": "2024-09-05T17:31:51.179835Z",
     "iopub.status.busy": "2024-09-05T17:31:51.179359Z",
     "iopub.status.idle": "2024-09-05T17:31:51.195208Z",
     "shell.execute_reply": "2024-09-05T17:31:51.192813Z",
     "shell.execute_reply.started": "2024-09-05T17:31:51.179792Z"
    }
   },
   "outputs": [
    {
     "data": {
      "text/plain": [
       "count     240.000000\n",
       "mean      235.600000\n",
       "std       429.430963\n",
       "min         6.000000\n",
       "25%        29.000000\n",
       "50%        89.000000\n",
       "75%       249.000000\n",
       "max      3899.000000\n",
       "Name: Unit Price, dtype: float64"
      ]
     },
     "execution_count": 24,
     "metadata": {},
     "output_type": "execute_result"
    }
   ],
   "source": [
    "data['Unit Price'].describe()"
   ]
  },
  {
   "cell_type": "code",
   "execution_count": 25,
   "metadata": {
    "execution": {
     "iopub.execute_input": "2024-09-05T17:31:51.162740Z",
     "iopub.status.busy": "2024-09-05T17:31:51.162311Z",
     "iopub.status.idle": "2024-09-05T17:31:51.175997Z",
     "shell.execute_reply": "2024-09-05T17:31:51.173639Z",
     "shell.execute_reply.started": "2024-09-05T17:31:51.162697Z"
    }
   },
   "outputs": [
    {
     "data": {
      "text/plain": [
       "array([ 2,  1,  3,  4,  5,  6, 10], dtype=int64)"
      ]
     },
     "execution_count": 25,
     "metadata": {},
     "output_type": "execute_result"
    }
   ],
   "source": [
    "data['Units Sold'].unique()"
   ]
  },
  {
   "cell_type": "code",
   "execution_count": 26,
   "metadata": {
    "execution": {
     "iopub.execute_input": "2024-09-05T17:31:51.197612Z",
     "iopub.status.busy": "2024-09-05T17:31:51.197064Z",
     "iopub.status.idle": "2024-09-05T17:31:51.206605Z",
     "shell.execute_reply": "2024-09-05T17:31:51.205139Z",
     "shell.execute_reply.started": "2024-09-05T17:31:51.197552Z"
    }
   },
   "outputs": [
    {
     "data": {
      "text/plain": [
       "1523.8928901112886"
      ]
     },
     "execution_count": 26,
     "metadata": {},
     "output_type": "execute_result"
    }
   ],
   "source": [
    "maxprice=data['Unit Price'].mean() + data['Unit Price'].std() * 3 \n",
    "maxprice"
   ]
  },
  {
   "cell_type": "code",
   "execution_count": 27,
   "metadata": {
    "execution": {
     "iopub.execute_input": "2024-09-05T17:31:51.208983Z",
     "iopub.status.busy": "2024-09-05T17:31:51.208253Z",
     "iopub.status.idle": "2024-09-05T17:31:51.241945Z",
     "shell.execute_reply": "2024-09-05T17:31:51.240432Z",
     "shell.execute_reply.started": "2024-09-05T17:31:51.208909Z"
    }
   },
   "outputs": [
    {
     "data": {
      "text/html": [
       "<div>\n",
       "<style scoped>\n",
       "    .dataframe tbody tr th:only-of-type {\n",
       "        vertical-align: middle;\n",
       "    }\n",
       "\n",
       "    .dataframe tbody tr th {\n",
       "        vertical-align: top;\n",
       "    }\n",
       "\n",
       "    .dataframe thead th {\n",
       "        text-align: right;\n",
       "    }\n",
       "</style>\n",
       "<table border=\"1\" class=\"dataframe\">\n",
       "  <thead>\n",
       "    <tr style=\"text-align: right;\">\n",
       "      <th></th>\n",
       "      <th>Transaction ID</th>\n",
       "      <th>Date</th>\n",
       "      <th>Product Category</th>\n",
       "      <th>Product Name</th>\n",
       "      <th>Units Sold</th>\n",
       "      <th>Unit Price</th>\n",
       "      <th>Total Revenue</th>\n",
       "      <th>Region</th>\n",
       "      <th>Payment Method</th>\n",
       "    </tr>\n",
       "  </thead>\n",
       "  <tbody>\n",
       "    <tr>\n",
       "      <th>6</th>\n",
       "      <td>10007</td>\n",
       "      <td>2024-01-07</td>\n",
       "      <td>Electronics</td>\n",
       "      <td>MacBook Pro 16-inch</td>\n",
       "      <td>1</td>\n",
       "      <td>2499</td>\n",
       "      <td>2499</td>\n",
       "      <td>North America</td>\n",
       "      <td>Credit Card</td>\n",
       "    </tr>\n",
       "    <tr>\n",
       "      <th>35</th>\n",
       "      <td>10036</td>\n",
       "      <td>2024-02-05</td>\n",
       "      <td>Sports</td>\n",
       "      <td>Peloton Bike</td>\n",
       "      <td>1</td>\n",
       "      <td>1895</td>\n",
       "      <td>1895</td>\n",
       "      <td>Asia</td>\n",
       "      <td>Credit Card</td>\n",
       "    </tr>\n",
       "    <tr>\n",
       "      <th>72</th>\n",
       "      <td>10073</td>\n",
       "      <td>2024-03-13</td>\n",
       "      <td>Electronics</td>\n",
       "      <td>HP Spectre x360 Laptop</td>\n",
       "      <td>1</td>\n",
       "      <td>1599</td>\n",
       "      <td>1599</td>\n",
       "      <td>North America</td>\n",
       "      <td>Credit Card</td>\n",
       "    </tr>\n",
       "    <tr>\n",
       "      <th>102</th>\n",
       "      <td>10103</td>\n",
       "      <td>2024-04-12</td>\n",
       "      <td>Electronics</td>\n",
       "      <td>Canon EOS R5 Camera</td>\n",
       "      <td>1</td>\n",
       "      <td>3899</td>\n",
       "      <td>3899</td>\n",
       "      <td>North America</td>\n",
       "      <td>Credit Card</td>\n",
       "    </tr>\n",
       "    <tr>\n",
       "      <th>216</th>\n",
       "      <td>10217</td>\n",
       "      <td>2024-08-04</td>\n",
       "      <td>Electronics</td>\n",
       "      <td>Apple MacBook Pro 16-inch</td>\n",
       "      <td>1</td>\n",
       "      <td>2399</td>\n",
       "      <td>2399</td>\n",
       "      <td>North America</td>\n",
       "      <td>Credit Card</td>\n",
       "    </tr>\n",
       "  </tbody>\n",
       "</table>\n",
       "</div>"
      ],
      "text/plain": [
       "     Transaction ID       Date Product Category               Product Name  \\\n",
       "6             10007 2024-01-07      Electronics        MacBook Pro 16-inch   \n",
       "35            10036 2024-02-05           Sports               Peloton Bike   \n",
       "72            10073 2024-03-13      Electronics     HP Spectre x360 Laptop   \n",
       "102           10103 2024-04-12      Electronics        Canon EOS R5 Camera   \n",
       "216           10217 2024-08-04      Electronics  Apple MacBook Pro 16-inch   \n",
       "\n",
       "     Units Sold  Unit Price  Total Revenue         Region Payment Method  \n",
       "6             1        2499           2499  North America    Credit Card  \n",
       "35            1        1895           1895           Asia    Credit Card  \n",
       "72            1        1599           1599  North America    Credit Card  \n",
       "102           1        3899           3899  North America    Credit Card  \n",
       "216           1        2399           2399  North America    Credit Card  "
      ]
     },
     "execution_count": 27,
     "metadata": {},
     "output_type": "execute_result"
    }
   ],
   "source": [
    "data[ data['Unit Price']> maxprice]"
   ]
  },
  {
   "cell_type": "code",
   "execution_count": 38,
   "metadata": {},
   "outputs": [
    {
     "data": {
      "text/plain": [
       "80381"
      ]
     },
     "execution_count": 38,
     "metadata": {},
     "output_type": "execute_result"
    }
   ],
   "source": [
    "data['Total Revenue'].sum()"
   ]
  },
  {
   "cell_type": "code",
   "execution_count": 39,
   "metadata": {},
   "outputs": [
    {
     "data": {
      "text/plain": [
       "80118"
      ]
     },
     "execution_count": 39,
     "metadata": {},
     "output_type": "execute_result"
    }
   ],
   "source": [
    "(data['Units Sold'] * data['Unit Price']).sum()"
   ]
  },
  {
   "cell_type": "code",
   "execution_count": 42,
   "metadata": {},
   "outputs": [
    {
     "data": {
      "text/plain": [
       "\"Sum of 'Total Revenue'  is not equal to sum of the product of 'Units Sold' and 'Unit Price'\""
      ]
     },
     "execution_count": 42,
     "metadata": {},
     "output_type": "execute_result"
    }
   ],
   "source": [
    "\"Sum of 'Total Revenue'  is not equal to sum of the product of 'Units Sold' and 'Unit Price'\""
   ]
  },
  {
   "cell_type": "code",
   "execution_count": 28,
   "metadata": {
    "execution": {
     "iopub.execute_input": "2024-09-05T17:31:51.244988Z",
     "iopub.status.busy": "2024-09-05T17:31:51.244472Z",
     "iopub.status.idle": "2024-09-05T17:31:51.260529Z",
     "shell.execute_reply": "2024-09-05T17:31:51.258978Z",
     "shell.execute_reply.started": "2024-09-05T17:31:51.244942Z"
    }
   },
   "outputs": [
    {
     "data": {
      "text/plain": [
       "count     240.000000\n",
       "mean      334.920833\n",
       "std       485.756751\n",
       "min         6.000000\n",
       "25%        62.000000\n",
       "50%       179.000000\n",
       "75%       399.000000\n",
       "max      3899.000000\n",
       "Name: Total Revenue, dtype: float64"
      ]
     },
     "execution_count": 28,
     "metadata": {},
     "output_type": "execute_result"
    }
   ],
   "source": [
    "data['Total Revenue'].describe()"
   ]
  },
  {
   "cell_type": "code",
   "execution_count": 29,
   "metadata": {
    "execution": {
     "iopub.execute_input": "2024-09-05T17:31:51.263292Z",
     "iopub.status.busy": "2024-09-05T17:31:51.262743Z",
     "iopub.status.idle": "2024-09-05T17:31:51.274467Z",
     "shell.execute_reply": "2024-09-05T17:31:51.273207Z",
     "shell.execute_reply.started": "2024-09-05T17:31:51.263241Z"
    }
   },
   "outputs": [
    {
     "data": {
      "text/plain": [
       "array(['North America', 'Europe', 'Asia'], dtype=object)"
      ]
     },
     "execution_count": 29,
     "metadata": {},
     "output_type": "execute_result"
    }
   ],
   "source": [
    "data['Region'].unique()"
   ]
  },
  {
   "cell_type": "code",
   "execution_count": 30,
   "metadata": {
    "execution": {
     "iopub.execute_input": "2024-09-05T17:31:51.277274Z",
     "iopub.status.busy": "2024-09-05T17:31:51.276778Z",
     "iopub.status.idle": "2024-09-05T17:31:51.292004Z",
     "shell.execute_reply": "2024-09-05T17:31:51.290174Z",
     "shell.execute_reply.started": "2024-09-05T17:31:51.277230Z"
    }
   },
   "outputs": [
    {
     "data": {
      "text/plain": [
       "Credit Card    120\n",
       "PayPal          80\n",
       "Debit Card      40\n",
       "Name: Payment Method, dtype: int64"
      ]
     },
     "execution_count": 30,
     "metadata": {},
     "output_type": "execute_result"
    }
   ],
   "source": [
    "data['Payment Method'].value_counts()"
   ]
  },
  {
   "cell_type": "markdown",
   "metadata": {},
   "source": [
    "### What marketing strategies can be found through analyzing the payment methods\n",
    "\n",
    "\n",
    "The above values show that payment via credit card was the most used mode of payment.\n",
    "\n",
    "Below are some marketing strategies:\n",
    "\n",
    "1. Targeting Campaigns.\n",
    "\n",
    "It is clear that Credit Cards are the most common payment method, marketing efforts can be tailored towards incentives that encourage users to make larger purchases or reward frequent Credit Card users (like, offering special discounts or cashback offers for Credit Card payments).\n",
    "\n",
    "PayPal users might respond well to promotions emphasizing convenience or security, as PayPal is often associated with faster and safer transactions.\n",
    "\n",
    "If Debit Cards are less popular, you could run specific campaigns aimed at encouraging debit card usage (like offering lower transaction fees or special discounts for debit card payments)\n",
    "\n",
    "\n",
    "2. Behavioral Analysis\n",
    "\n",
    "Tracking which payment method is used more often can give insights into customer behavior. For instance, if a lot of customers are using Credit Cards, it may indicate they are comfortable with higher spending or value points and rewards. PayPal may indicate an audience that values speed and security, while Debit Card users might be more budget-conscious.\n",
    "\n",
    "Based on these insights, you could adjust your marketing tone—promoting value or convenience to match the preferences of each payment group.\n",
    "\n"
   ]
  },
  {
   "cell_type": "code",
   "execution_count": 31,
   "metadata": {
    "execution": {
     "iopub.execute_input": "2024-09-05T17:31:51.296307Z",
     "iopub.status.busy": "2024-09-05T17:31:51.294751Z",
     "iopub.status.idle": "2024-09-05T17:31:51.321720Z",
     "shell.execute_reply": "2024-09-05T17:31:51.320538Z",
     "shell.execute_reply.started": "2024-09-05T17:31:51.296047Z"
    }
   },
   "outputs": [
    {
     "data": {
      "text/html": [
       "<div>\n",
       "<style scoped>\n",
       "    .dataframe tbody tr th:only-of-type {\n",
       "        vertical-align: middle;\n",
       "    }\n",
       "\n",
       "    .dataframe tbody tr th {\n",
       "        vertical-align: top;\n",
       "    }\n",
       "\n",
       "    .dataframe thead th {\n",
       "        text-align: right;\n",
       "    }\n",
       "</style>\n",
       "<table border=\"1\" class=\"dataframe\">\n",
       "  <thead>\n",
       "    <tr style=\"text-align: right;\">\n",
       "      <th></th>\n",
       "      <th>Transaction ID</th>\n",
       "      <th>Date</th>\n",
       "      <th>Product Category</th>\n",
       "      <th>Product Name</th>\n",
       "      <th>Units Sold</th>\n",
       "      <th>Unit Price</th>\n",
       "      <th>Total Revenue</th>\n",
       "      <th>Region</th>\n",
       "      <th>Payment Method</th>\n",
       "    </tr>\n",
       "  </thead>\n",
       "  <tbody>\n",
       "    <tr>\n",
       "      <th>0</th>\n",
       "      <td>10001</td>\n",
       "      <td>2024-01-01</td>\n",
       "      <td>Electronics</td>\n",
       "      <td>iPhone 14 Pro</td>\n",
       "      <td>2</td>\n",
       "      <td>999</td>\n",
       "      <td>1999</td>\n",
       "      <td>North America</td>\n",
       "      <td>Credit Card</td>\n",
       "    </tr>\n",
       "    <tr>\n",
       "      <th>1</th>\n",
       "      <td>10002</td>\n",
       "      <td>2024-01-02</td>\n",
       "      <td>Home Appliances</td>\n",
       "      <td>Dyson V11 Vacuum</td>\n",
       "      <td>1</td>\n",
       "      <td>499</td>\n",
       "      <td>499</td>\n",
       "      <td>Europe</td>\n",
       "      <td>PayPal</td>\n",
       "    </tr>\n",
       "    <tr>\n",
       "      <th>2</th>\n",
       "      <td>10003</td>\n",
       "      <td>2024-01-03</td>\n",
       "      <td>Clothing</td>\n",
       "      <td>Levi's 501 Jeans</td>\n",
       "      <td>3</td>\n",
       "      <td>69</td>\n",
       "      <td>209</td>\n",
       "      <td>Asia</td>\n",
       "      <td>Debit Card</td>\n",
       "    </tr>\n",
       "    <tr>\n",
       "      <th>3</th>\n",
       "      <td>10004</td>\n",
       "      <td>2024-01-04</td>\n",
       "      <td>Books</td>\n",
       "      <td>The Da Vinci Code</td>\n",
       "      <td>4</td>\n",
       "      <td>15</td>\n",
       "      <td>63</td>\n",
       "      <td>North America</td>\n",
       "      <td>Credit Card</td>\n",
       "    </tr>\n",
       "    <tr>\n",
       "      <th>4</th>\n",
       "      <td>10005</td>\n",
       "      <td>2024-01-05</td>\n",
       "      <td>Beauty Products</td>\n",
       "      <td>Neutrogena Skincare Set</td>\n",
       "      <td>1</td>\n",
       "      <td>89</td>\n",
       "      <td>89</td>\n",
       "      <td>Europe</td>\n",
       "      <td>PayPal</td>\n",
       "    </tr>\n",
       "  </tbody>\n",
       "</table>\n",
       "</div>"
      ],
      "text/plain": [
       "   Transaction ID       Date Product Category             Product Name  \\\n",
       "0           10001 2024-01-01      Electronics            iPhone 14 Pro   \n",
       "1           10002 2024-01-02  Home Appliances         Dyson V11 Vacuum   \n",
       "2           10003 2024-01-03         Clothing         Levi's 501 Jeans   \n",
       "3           10004 2024-01-04            Books        The Da Vinci Code   \n",
       "4           10005 2024-01-05  Beauty Products  Neutrogena Skincare Set   \n",
       "\n",
       "   Units Sold  Unit Price  Total Revenue         Region Payment Method  \n",
       "0           2         999           1999  North America    Credit Card  \n",
       "1           1         499            499         Europe         PayPal  \n",
       "2           3          69            209           Asia     Debit Card  \n",
       "3           4          15             63  North America    Credit Card  \n",
       "4           1          89             89         Europe         PayPal  "
      ]
     },
     "execution_count": 31,
     "metadata": {},
     "output_type": "execute_result"
    }
   ],
   "source": [
    "data.head()"
   ]
  },
  {
   "cell_type": "code",
   "execution_count": 32,
   "metadata": {},
   "outputs": [],
   "source": [
    "#extract month\n",
    "data['month'] = data['Date'].dt.month"
   ]
  },
  {
   "cell_type": "code",
   "execution_count": 33,
   "metadata": {
    "execution": {
     "iopub.execute_input": "2024-09-05T17:31:51.817630Z",
     "iopub.status.busy": "2024-09-05T17:31:51.817155Z",
     "iopub.status.idle": "2024-09-05T17:31:52.162107Z",
     "shell.execute_reply": "2024-09-05T17:31:52.160372Z",
     "shell.execute_reply.started": "2024-09-05T17:31:51.817586Z"
    }
   },
   "outputs": [
    {
     "data": {
      "image/png": "[encoded data removed]",
      "text/plain": [
       "<Figure size 864x432 with 1 Axes>"
      ]
     },
     "metadata": {
      "needs_background": "light"
     },
     "output_type": "display_data"
    }
   ],
   "source": [
    "#line graph on monthly sales trends\n",
    "monthly_sales = data.groupby('month')['Total Revenue'].sum().reset_index()\n",
    "plt.figure(figsize=(12, 6))\n",
    "plt.plot(monthly_sales['month'], monthly_sales['Total Revenue'])\n",
    "plt.title('Monthly Sales Trends')\n",
    "plt.xlabel('Month')\n",
    "plt.ylabel('Total Revenue')\n",
    "plt.show()"
   ]
  },
  {
   "cell_type": "markdown",
   "metadata": {},
   "source": [
    "### What are the peak sales seasons?\n",
    "\n",
    "\n",
    "The above line graph answers my question on peak seasons which appear to be between the second and the fourth months.\n",
    "\n",
    "The most revenue was collected in the first four months.\n",
    "\n",
    "Factors that may have led to the trend shown above in the line graph:\n",
    "\n",
    "1. Seasonal Products.\n",
    "\n",
    "If it's a business selling things like winter coats or holiday decorations, the peak in month 1 might be due to holiday shopping. The smaller peak in month \n",
    "3 could be a clearance sale or a smaller holiday.\n",
    "\n",
    "2. Subscription Service.\n",
    "\n",
    "If it's a subscription service, the initial peak might be from a big launch or promotion, and the decline could be people not renewing.\n",
    "\n",
    "3. External Factors.\n",
    "\n",
    "Things like economic downturns, competitor actions, or even the weather can impact sales."
   ]
  },
  {
   "cell_type": "code",
   "execution_count": 34,
   "metadata": {
    "execution": {
     "iopub.execute_input": "2024-09-05T17:31:52.164998Z",
     "iopub.status.busy": "2024-09-05T17:31:52.164493Z",
     "iopub.status.idle": "2024-09-05T17:31:52.587346Z",
     "shell.execute_reply": "2024-09-05T17:31:52.585962Z",
     "shell.execute_reply.started": "2024-09-05T17:31:52.164951Z"
    }
   },
   "outputs": [
    {
     "data": {
      "image/png": "[encoded data removed]",
      "text/plain": [
       "<Figure size 432x288 with 1 Axes>"
      ]
     },
     "metadata": {
      "needs_background": "light"
     },
     "output_type": "display_data"
    }
   ],
   "source": [
    "sns.boxplot(x='Product Category', y='Total Revenue', data=data)\n",
    "plt.title('Total Revenue by Product Category')\n",
    "plt.xticks(rotation=45)\n",
    "plt.show()"
   ]
  },
  {
   "cell_type": "code",
   "execution_count": 35,
   "metadata": {
    "execution": {
     "iopub.execute_input": "2024-09-05T17:31:52.589382Z",
     "iopub.status.busy": "2024-09-05T17:31:52.589002Z",
     "iopub.status.idle": "2024-09-05T17:31:52.942186Z",
     "shell.execute_reply": "2024-09-05T17:31:52.940378Z",
     "shell.execute_reply.started": "2024-09-05T17:31:52.589341Z"
    }
   },
   "outputs": [
    {
     "data": {
      "image/png": "[encoded data removed]",
      "text/plain": [
       "<Figure size 432x288 with 1 Axes>"
      ]
     },
     "metadata": {
      "needs_background": "light"
     },
     "output_type": "display_data"
    }
   ],
   "source": [
    "sns.boxplot(x='Region', y='Total Revenue', data=data)\n",
    "plt.title('Total Revenue by Region')\n",
    "plt.show()"
   ]
  },
  {
   "cell_type": "markdown",
   "metadata": {},
   "source": [
    "### How is the region related to the total revenue and how it affects online sales?\n",
    "\n",
    "\n",
    "North America is the strongest revenue generator overall, with both a higher median and higher potential for exceptionally high revenue (as shown by the outliers).\n",
    "\n",
    "Europe demonstrates moderate and relatively consistent revenue performance.\n",
    "\n",
    "Asia has the lowest revenue generation among the three regions, with less variability in the central data but still the possibility of higher outliers.\n",
    "\n",
    "How does this affect online sales:\n",
    "\n",
    "1. Customer Service.\n",
    "\n",
    "Multilingual Support.\n",
    "\n",
    "Provide multilingual customer support to cater to customers from different regions.   \n",
    "\n",
    "Local Customer Service Channels.\n",
    "\n",
    "Consider offering customer support through channels popular in specific regions, such as local social media platforms or messaging apps.\n",
    "\n",
    "2. Optimize Marketing Spend\n",
    "\n",
    "Allocate Budget Based on Potential.\n",
    "\n",
    "Allocate your online marketing budget based on the revenue potential of each region. North America, for instance, might warrant a larger share of the budget given its strong performance.\n",
    "\n",
    "Track Return On Investment(ROI)\n",
    "\n",
    "Closely track the return on investment (ROI) of your online marketing campaigns in each region to ensure you're getting the most out of your spending.\n",
    "\n",
    "How to improve online sales in the region:\n",
    "\n",
    "1. Market Research.\n",
    "\n",
    "Conduct thorough market research to understand the specific needs and preferences of online shoppers in a specific region. \n",
    "  \n",
    "2,. Mobile Optimization.\n",
    "\n",
    "Given the high mobile penetration in many Asian countries, prioritize mobile optimization of your website and checkout process. \n",
    "  \n",
    "3. Payment Options.\n",
    "\n",
    "Offer a variety of payment options popular in Asia, including mobile wallets and local payment gateways.\n",
    "\n",
    " "
   ]
  },
  {
   "cell_type": "code",
   "execution_count": 36,
   "metadata": {
    "execution": {
     "iopub.execute_input": "2024-09-05T17:31:52.944521Z",
     "iopub.status.busy": "2024-09-05T17:31:52.944002Z",
     "iopub.status.idle": "2024-09-05T17:31:52.962408Z",
     "shell.execute_reply": "2024-09-05T17:31:52.960605Z",
     "shell.execute_reply.started": "2024-09-05T17:31:52.944461Z"
    }
   },
   "outputs": [
    {
     "data": {
      "text/plain": [
       "Product Category  Region       \n",
       "Beauty Products   Europe            2611\n",
       "Books             North America     1825\n",
       "Clothing          Asia              8095\n",
       "Electronics       North America    34949\n",
       "Home Appliances   Europe           18609\n",
       "Sports            Asia             14292\n",
       "Name: Total Revenue, dtype: int64"
      ]
     },
     "execution_count": 36,
     "metadata": {},
     "output_type": "execute_result"
    }
   ],
   "source": [
    "data.groupby(['Product Category','Region'])['Total Revenue'].sum()"
   ]
  },
  {
   "cell_type": "code",
   "execution_count": 37,
   "metadata": {
    "execution": {
     "iopub.execute_input": "2024-09-05T17:31:52.965587Z",
     "iopub.status.busy": "2024-09-05T17:31:52.965182Z",
     "iopub.status.idle": "2024-09-05T17:31:53.239644Z",
     "shell.execute_reply": "2024-09-05T17:31:53.238181Z",
     "shell.execute_reply.started": "2024-09-05T17:31:52.965543Z"
    }
   },
   "outputs": [
    {
     "data": {
      "image/png": "[encoded data removed]",
      "text/plain": [
       "<Figure size 432x288 with 1 Axes>"
      ]
     },
     "metadata": {
      "needs_background": "light"
     },
     "output_type": "display_data"
    }
   ],
   "source": [
    "sns.boxplot(x='Payment Method', y='Total Revenue', data=data)\n",
    "plt.title('Total Revenue by Payment Method')\n",
    "plt.show()"
   ]
  },
  {
   "cell_type": "code",
   "execution_count": null,
   "metadata": {},
   "outputs": [],
   "source": []
  }
 ],
 "metadata": {
  "kaggle": {
   "accelerator": "none",
   "dataSources": [
    {
     "datasetId": 5085377,
     "sourceId": 8517615,
     "sourceType": "datasetVersion"
    }
   ],
   "dockerImageVersionId": 30761,
   "isGpuEnabled": false,
   "isInternetEnabled": true,
   "language": "python",
   "sourceType": "notebook"
  },
  "kernelspec": {
   "display_name": "learn-env",
   "language": "python",
   "name": "python3"
  },
  "language_info": {
   "codemirror_mode": {
    "name": "ipython",
    "version": 3
   },
   "file_extension": ".py",
   "mimetype": "text/x-python",
   "name": "python",
   "nbconvert_exporter": "python",
   "pygments_lexer": "ipython3",
   "version": "3.8.5"
  }
 },
 "nbformat": 4,
 "nbformat_minor": 4
}
